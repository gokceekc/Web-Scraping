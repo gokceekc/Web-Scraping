{
  "nbformat": 4,
  "nbformat_minor": 0,
  "metadata": {
    "colab": {
      "provenance": []
    },
    "kernelspec": {
      "name": "python3",
      "display_name": "Python 3"
    },
    "language_info": {
      "name": "python"
    }
  },
  "cells": [
    {
      "cell_type": "code",
      "source": [
        "import requests\n",
        "from bs4 import BeautifulSoup as bs\n",
        "import re\n",
        "import pandas as pd"
      ],
      "metadata": {
        "id": "XfVOjWwgtGS6"
      },
      "execution_count": null,
      "outputs": []
    },
    {
      "cell_type": "code",
      "source": [
        "URL='https://www.kariyer.net/is-ilani/bmc-otomotiv-sanayi-ve-ticaret-a-s-yazilim-muhendisi-3358910'\n",
        "headers={\"User-Agent\":\"Mozilla/5.0 (Windows NT 10.0; Win64; x64) AppleWebKit/537.36 (KHTML, like Gecko) Chrome/111.0.0.0 Safari/537.36\"}\n",
        "page=requests.get(URL,headers=headers)\n",
        "content=bs(page.content,'html.parser')\n",
        "\n",
        "job_detail=content.find(class_=\"job-detail-qualifications\").get_text()\n",
        "print(job_detail)\n",
        "\n",
        "print(type(job_detail))\n",
        "\n",
        "listt=list(job_detail.split(','))\n",
        "print(listt)"
      ],
      "metadata": {
        "colab": {
          "base_uri": "https://localhost:8080/"
        },
        "id": "YGY4DQB1I8mA",
        "outputId": "4d7a5e88-4542-46ac-d3d5-ce8e7e4260f7"
      },
      "execution_count": null,
      "outputs": [
        {
          "output_type": "stream",
          "name": "stdout",
          "text": [
            "Üniversitelerin Mekatronik Mühendisliği, Elektrik/Elektronik Mühendisliği bölümlerinden mezun (tercihen lisansüstü eğitimini tamamlamış),Tercihen otonom sürüş ve elektronik sistemler alanında deneyimli,Çok iyi seviyede MATLAB/Simulink kullanabilen,İyi derecede C++ bilgisine sahip,Perception veya localization bilgisine sahip,Geliştirme süreçlerine hakim, tercihen daha önce Agile (çevik) süreçleriyle çalışmış,CAN-Bus, LIN, FlexRAY, Seri, TCP/IP haberleşme protokollerini bilen,Kontrol algoritmaları ile daha önce çalışmış,Araç Elektrik-Elektronik mimarisine hakim,İyi seviyede sözlü ve yazılı İngilizce bilgisine sahip,Ekip çalışmasına yatkın,Analitik düşünme yeteneğine sahip,Seyahat engeli bulunmayan,İzmir'de ikamet eden/edebilecek.İş Tanımı Araç yazılımı ile ilgili yazılım geliştirme-güncelleme çalışmalarının yürütülmesi,Araç elektrik/elektroniği ve otonom sürüş ile ilgili mimari tasarımı gerçekleştirmek ve geliştirme faaliyetlerinde görev almak,Araç elektrik-elektronik alt sistemlerine ait ekipmanların iyileştirme, maliyet düşürme ve üretim yöntemleri konularında yapılan çalışmalarını yürütmek,Teknik destek sağlayıcı firmalar ile yürütülen ilgi alanındaki faaliyetlerde görev almak,Şirket içi ve dışı gerekli teknik dokümantasyonları hazırlamak.\n",
            "<class 'str'>\n",
            "['Üniversitelerin Mekatronik Mühendisliği', ' Elektrik/Elektronik Mühendisliği bölümlerinden mezun (tercihen lisansüstü eğitimini tamamlamış)', 'Tercihen otonom sürüş ve elektronik sistemler alanında deneyimli', 'Çok iyi seviyede MATLAB/Simulink kullanabilen', 'İyi derecede C++ bilgisine sahip', 'Perception veya localization bilgisine sahip', 'Geliştirme süreçlerine hakim', ' tercihen daha önce Agile (çevik) süreçleriyle çalışmış', 'CAN-Bus', ' LIN', ' FlexRAY', ' Seri', ' TCP/IP haberleşme protokollerini bilen', 'Kontrol algoritmaları ile daha önce çalışmış', 'Araç Elektrik-Elektronik mimarisine hakim', 'İyi seviyede sözlü ve yazılı İngilizce bilgisine sahip', 'Ekip çalışmasına yatkın', 'Analitik düşünme yeteneğine sahip', 'Seyahat engeli bulunmayan', \"İzmir'de ikamet eden/edebilecek.İş Tanımı\\xa0Araç yazılımı ile ilgili yazılım geliştirme-güncelleme çalışmalarının yürütülmesi\", 'Araç elektrik/elektroniği ve otonom sürüş ile ilgili mimari tasarımı gerçekleştirmek ve geliştirme faaliyetlerinde görev almak', 'Araç elektrik-elektronik alt sistemlerine ait ekipmanların iyileştirme', ' maliyet düşürme ve üretim yöntemleri konularında yapılan çalışmalarını yürütmek', 'Teknik destek sağlayıcı firmalar ile yürütülen ilgi alanındaki faaliyetlerde görev almak', 'Şirket içi ve dışı gerekli teknik dokümantasyonları hazırlamak.']\n"
          ]
        }
      ]
    },
    {
      "cell_type": "code",
      "source": [
        "data=pd.DataFrame({'job_details': listt})\n",
        "data"
      ],
      "metadata": {
        "colab": {
          "base_uri": "https://localhost:8080/",
          "height": 639
        },
        "id": "jaY_ANCuJDQP",
        "outputId": "2687e696-1c52-4aeb-ba67-d2ae703489c5"
      },
      "execution_count": null,
      "outputs": [
        {
          "output_type": "execute_result",
          "data": {
            "text/plain": [
              "                                          job_details\n",
              "0             Üniversitelerin Mekatronik Mühendisliği\n",
              "1    Elektrik/Elektronik Mühendisliği bölümlerinde...\n",
              "2   Tercihen otonom sürüş ve elektronik sistemler ...\n",
              "3       Çok iyi seviyede MATLAB/Simulink kullanabilen\n",
              "4                    İyi derecede C++ bilgisine sahip\n",
              "5        Perception veya localization bilgisine sahip\n",
              "6                        Geliştirme süreçlerine hakim\n",
              "7    tercihen daha önce Agile (çevik) süreçleriyle...\n",
              "8                                             CAN-Bus\n",
              "9                                                 LIN\n",
              "10                                            FlexRAY\n",
              "11                                               Seri\n",
              "12             TCP/IP haberleşme protokollerini bilen\n",
              "13       Kontrol algoritmaları ile daha önce çalışmış\n",
              "14          Araç Elektrik-Elektronik mimarisine hakim\n",
              "15  İyi seviyede sözlü ve yazılı İngilizce bilgisi...\n",
              "16                            Ekip çalışmasına yatkın\n",
              "17                  Analitik düşünme yeteneğine sahip\n",
              "18                          Seyahat engeli bulunmayan\n",
              "19  İzmir'de ikamet eden/edebilecek.İş Tanımı Araç...\n",
              "20  Araç elektrik/elektroniği ve otonom sürüş ile ...\n",
              "21  Araç elektrik-elektronik alt sistemlerine ait ...\n",
              "22   maliyet düşürme ve üretim yöntemleri konuları...\n",
              "23  Teknik destek sağlayıcı firmalar ile yürütülen...\n",
              "24  Şirket içi ve dışı gerekli teknik dokümantasyo..."
            ],
            "text/html": [
              "\n",
              "  <div id=\"df-c04de8e7-68ce-4052-936a-72011f7d147c\">\n",
              "    <div class=\"colab-df-container\">\n",
              "      <div>\n",
              "<style scoped>\n",
              "    .dataframe tbody tr th:only-of-type {\n",
              "        vertical-align: middle;\n",
              "    }\n",
              "\n",
              "    .dataframe tbody tr th {\n",
              "        vertical-align: top;\n",
              "    }\n",
              "\n",
              "    .dataframe thead th {\n",
              "        text-align: right;\n",
              "    }\n",
              "</style>\n",
              "<table border=\"1\" class=\"dataframe\">\n",
              "  <thead>\n",
              "    <tr style=\"text-align: right;\">\n",
              "      <th></th>\n",
              "      <th>job_details</th>\n",
              "    </tr>\n",
              "  </thead>\n",
              "  <tbody>\n",
              "    <tr>\n",
              "      <th>0</th>\n",
              "      <td>Üniversitelerin Mekatronik Mühendisliği</td>\n",
              "    </tr>\n",
              "    <tr>\n",
              "      <th>1</th>\n",
              "      <td>Elektrik/Elektronik Mühendisliği bölümlerinde...</td>\n",
              "    </tr>\n",
              "    <tr>\n",
              "      <th>2</th>\n",
              "      <td>Tercihen otonom sürüş ve elektronik sistemler ...</td>\n",
              "    </tr>\n",
              "    <tr>\n",
              "      <th>3</th>\n",
              "      <td>Çok iyi seviyede MATLAB/Simulink kullanabilen</td>\n",
              "    </tr>\n",
              "    <tr>\n",
              "      <th>4</th>\n",
              "      <td>İyi derecede C++ bilgisine sahip</td>\n",
              "    </tr>\n",
              "    <tr>\n",
              "      <th>5</th>\n",
              "      <td>Perception veya localization bilgisine sahip</td>\n",
              "    </tr>\n",
              "    <tr>\n",
              "      <th>6</th>\n",
              "      <td>Geliştirme süreçlerine hakim</td>\n",
              "    </tr>\n",
              "    <tr>\n",
              "      <th>7</th>\n",
              "      <td>tercihen daha önce Agile (çevik) süreçleriyle...</td>\n",
              "    </tr>\n",
              "    <tr>\n",
              "      <th>8</th>\n",
              "      <td>CAN-Bus</td>\n",
              "    </tr>\n",
              "    <tr>\n",
              "      <th>9</th>\n",
              "      <td>LIN</td>\n",
              "    </tr>\n",
              "    <tr>\n",
              "      <th>10</th>\n",
              "      <td>FlexRAY</td>\n",
              "    </tr>\n",
              "    <tr>\n",
              "      <th>11</th>\n",
              "      <td>Seri</td>\n",
              "    </tr>\n",
              "    <tr>\n",
              "      <th>12</th>\n",
              "      <td>TCP/IP haberleşme protokollerini bilen</td>\n",
              "    </tr>\n",
              "    <tr>\n",
              "      <th>13</th>\n",
              "      <td>Kontrol algoritmaları ile daha önce çalışmış</td>\n",
              "    </tr>\n",
              "    <tr>\n",
              "      <th>14</th>\n",
              "      <td>Araç Elektrik-Elektronik mimarisine hakim</td>\n",
              "    </tr>\n",
              "    <tr>\n",
              "      <th>15</th>\n",
              "      <td>İyi seviyede sözlü ve yazılı İngilizce bilgisi...</td>\n",
              "    </tr>\n",
              "    <tr>\n",
              "      <th>16</th>\n",
              "      <td>Ekip çalışmasına yatkın</td>\n",
              "    </tr>\n",
              "    <tr>\n",
              "      <th>17</th>\n",
              "      <td>Analitik düşünme yeteneğine sahip</td>\n",
              "    </tr>\n",
              "    <tr>\n",
              "      <th>18</th>\n",
              "      <td>Seyahat engeli bulunmayan</td>\n",
              "    </tr>\n",
              "    <tr>\n",
              "      <th>19</th>\n",
              "      <td>İzmir'de ikamet eden/edebilecek.İş Tanımı Araç...</td>\n",
              "    </tr>\n",
              "    <tr>\n",
              "      <th>20</th>\n",
              "      <td>Araç elektrik/elektroniği ve otonom sürüş ile ...</td>\n",
              "    </tr>\n",
              "    <tr>\n",
              "      <th>21</th>\n",
              "      <td>Araç elektrik-elektronik alt sistemlerine ait ...</td>\n",
              "    </tr>\n",
              "    <tr>\n",
              "      <th>22</th>\n",
              "      <td>maliyet düşürme ve üretim yöntemleri konuları...</td>\n",
              "    </tr>\n",
              "    <tr>\n",
              "      <th>23</th>\n",
              "      <td>Teknik destek sağlayıcı firmalar ile yürütülen...</td>\n",
              "    </tr>\n",
              "    <tr>\n",
              "      <th>24</th>\n",
              "      <td>Şirket içi ve dışı gerekli teknik dokümantasyo...</td>\n",
              "    </tr>\n",
              "  </tbody>\n",
              "</table>\n",
              "</div>\n",
              "      <button class=\"colab-df-convert\" onclick=\"convertToInteractive('df-c04de8e7-68ce-4052-936a-72011f7d147c')\"\n",
              "              title=\"Convert this dataframe to an interactive table.\"\n",
              "              style=\"display:none;\">\n",
              "        \n",
              "  <svg xmlns=\"http://www.w3.org/2000/svg\" height=\"24px\"viewBox=\"0 0 24 24\"\n",
              "       width=\"24px\">\n",
              "    <path d=\"M0 0h24v24H0V0z\" fill=\"none\"/>\n",
              "    <path d=\"M18.56 5.44l.94 2.06.94-2.06 2.06-.94-2.06-.94-.94-2.06-.94 2.06-2.06.94zm-11 1L8.5 8.5l.94-2.06 2.06-.94-2.06-.94L8.5 2.5l-.94 2.06-2.06.94zm10 10l.94 2.06.94-2.06 2.06-.94-2.06-.94-.94-2.06-.94 2.06-2.06.94z\"/><path d=\"M17.41 7.96l-1.37-1.37c-.4-.4-.92-.59-1.43-.59-.52 0-1.04.2-1.43.59L10.3 9.45l-7.72 7.72c-.78.78-.78 2.05 0 2.83L4 21.41c.39.39.9.59 1.41.59.51 0 1.02-.2 1.41-.59l7.78-7.78 2.81-2.81c.8-.78.8-2.07 0-2.86zM5.41 20L4 18.59l7.72-7.72 1.47 1.35L5.41 20z\"/>\n",
              "  </svg>\n",
              "      </button>\n",
              "      \n",
              "  <style>\n",
              "    .colab-df-container {\n",
              "      display:flex;\n",
              "      flex-wrap:wrap;\n",
              "      gap: 12px;\n",
              "    }\n",
              "\n",
              "    .colab-df-convert {\n",
              "      background-color: #E8F0FE;\n",
              "      border: none;\n",
              "      border-radius: 50%;\n",
              "      cursor: pointer;\n",
              "      display: none;\n",
              "      fill: #1967D2;\n",
              "      height: 32px;\n",
              "      padding: 0 0 0 0;\n",
              "      width: 32px;\n",
              "    }\n",
              "\n",
              "    .colab-df-convert:hover {\n",
              "      background-color: #E2EBFA;\n",
              "      box-shadow: 0px 1px 2px rgba(60, 64, 67, 0.3), 0px 1px 3px 1px rgba(60, 64, 67, 0.15);\n",
              "      fill: #174EA6;\n",
              "    }\n",
              "\n",
              "    [theme=dark] .colab-df-convert {\n",
              "      background-color: #3B4455;\n",
              "      fill: #D2E3FC;\n",
              "    }\n",
              "\n",
              "    [theme=dark] .colab-df-convert:hover {\n",
              "      background-color: #434B5C;\n",
              "      box-shadow: 0px 1px 3px 1px rgba(0, 0, 0, 0.15);\n",
              "      filter: drop-shadow(0px 1px 2px rgba(0, 0, 0, 0.3));\n",
              "      fill: #FFFFFF;\n",
              "    }\n",
              "  </style>\n",
              "\n",
              "      <script>\n",
              "        const buttonEl =\n",
              "          document.querySelector('#df-c04de8e7-68ce-4052-936a-72011f7d147c button.colab-df-convert');\n",
              "        buttonEl.style.display =\n",
              "          google.colab.kernel.accessAllowed ? 'block' : 'none';\n",
              "\n",
              "        async function convertToInteractive(key) {\n",
              "          const element = document.querySelector('#df-c04de8e7-68ce-4052-936a-72011f7d147c');\n",
              "          const dataTable =\n",
              "            await google.colab.kernel.invokeFunction('convertToInteractive',\n",
              "                                                     [key], {});\n",
              "          if (!dataTable) return;\n",
              "\n",
              "          const docLinkHtml = 'Like what you see? Visit the ' +\n",
              "            '<a target=\"_blank\" href=https://colab.research.google.com/notebooks/data_table.ipynb>data table notebook</a>'\n",
              "            + ' to learn more about interactive tables.';\n",
              "          element.innerHTML = '';\n",
              "          dataTable['output_type'] = 'display_data';\n",
              "          await google.colab.output.renderOutput(dataTable, element);\n",
              "          const docLink = document.createElement('div');\n",
              "          docLink.innerHTML = docLinkHtml;\n",
              "          element.appendChild(docLink);\n",
              "        }\n",
              "      </script>\n",
              "    </div>\n",
              "  </div>\n",
              "  "
            ]
          },
          "metadata": {},
          "execution_count": 35
        }
      ]
    },
    {
      "cell_type": "code",
      "source": [
        "data.to_csv('kariyer.csv')"
      ],
      "metadata": {
        "id": "TyEDtvBBjNtf"
      },
      "execution_count": null,
      "outputs": []
    },
    {
      "cell_type": "code",
      "source": [
        "from google.colab import drive\n",
        "drive.mount('/content/drive')"
      ],
      "metadata": {
        "colab": {
          "base_uri": "https://localhost:8080/"
        },
        "id": "R6g0uqyLkK8A",
        "outputId": "fc53c475-686e-4ce4-a567-376a5b0adb6c"
      },
      "execution_count": null,
      "outputs": [
        {
          "output_type": "stream",
          "name": "stdout",
          "text": [
            "Mounted at /content/drive\n"
          ]
        }
      ]
    },
    {
      "cell_type": "code",
      "source": [
        "data.to_csv('/content/drive/MyDrive/kariyer.csv')"
      ],
      "metadata": {
        "id": "eF25TtYAkdhP"
      },
      "execution_count": null,
      "outputs": []
    },
    {
      "cell_type": "code",
      "source": [],
      "metadata": {
        "id": "DCDvWVhdlTfa"
      },
      "execution_count": null,
      "outputs": []
    }
  ]
}