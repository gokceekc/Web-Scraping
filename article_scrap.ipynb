{
  "nbformat": 4,
  "nbformat_minor": 0,
  "metadata": {
    "colab": {
      "provenance": []
    },
    "kernelspec": {
      "name": "python3",
      "display_name": "Python 3"
    },
    "language_info": {
      "name": "python"
    }
  },
  "cells": [
    {
      "cell_type": "code",
      "execution_count": null,
      "metadata": {
        "id": "_vcUgVwcS2PJ"
      },
      "outputs": [],
      "source": [
        "import requests\n",
        "from bs4 import BeautifulSoup"
      ]
    },
    {
      "cell_type": "code",
      "source": [
        "# Make a request to the movie page and get the HTML content\n",
        "movie_url = \"https://altyazi.net/yazilar/elestiriler/leylanin-kardesleri/\"\n",
        "response = requests.get(movie_url)\n",
        "html_content = response.content\n",
        "\n",
        "# Parse the HTML content using BeautifulSoup\n",
        "soup = BeautifulSoup(html_content, 'html.parser')\n",
        "\n",
        "# Extract the review data\n",
        "reviews = []\n",
        "for review in soup.find_all('div', class_=\"post-content entry-content\"):\n",
        "    reviews.append(review.text.strip())\n",
        "\n",
        "# Print the extracted review data\n",
        "for review in reviews:\n",
        "    print(review)\n",
        "\n",
        "# Save the extracted review data to a file\n",
        "with open('reviews.txt', 'w') as f:\n",
        "    for review in reviews:\n",
        "        f.write(review + '\\n')\n",
        "#print(html_content)"
      ],
      "metadata": {
        "colab": {
          "base_uri": "https://localhost:8080/"
        },
        "id": "eB-c70C8S6JD",
        "outputId": "d5ddc464-b79d-4c74-9ffb-dddd53cecb67"
      },
      "execution_count": null,
      "outputs": [
        {
          "output_type": "stream",
          "name": "stdout",
          "text": [
            "Geçtiğimiz yıl Cannes Film Festivali’nin ana yarışmasına sürpriz biçimde seçilen ve festivalden FIPRESCI Ödülü’yle dönen Leyla’nın Kardeşleri, İran toplumuna bir aile üzerinden bakıyor. Saeed Roustayi’nin üçüncü filmi, çok katmanlı yapısı ve sözünü sakınmayan usta işi yönetmenliğiyle ilgiyi hak ediyor.\n",
            "Saeed Roustayi’nin üçüncü filmi Leyla’nın Kardeşleri (Baradaran-e Leila, 2022), geçtiğimiz yıl henüz ilk gösterimi bile gerçekleştirilmeden büyük merak uyandırmıştı. Çünkü pek tanınmayan genç bir yönetmenin imzasını taşıyan bu film, genellikle yalnızca daha önceki filmleriyle ses getirmiş tecrübeli isimlerin seçildiği Cannes ana yarışmasına davet edilmişti. Fakat aslında Roustayi’nin kariyerinin başında bir nevi ustalar kulübüne katılması, dünya sinemasının en ünlü isimleri ile birlikte yarışması çok da şaşırtıcı değil. Çünkü festivalden FIPRESCI ödülü ile ayrılan Leyla’nın Kardeşleri, İran sinemasını küçük ölçekli dramalar aracılığıyla tanıyan izleyicileri şaşırtacak ölçüde iddialı, çok katmanlı bir film. Herhangi bir festivalin yan bölümlerinde keşfedilebilecek ilginç ama minör bir deneme değil bu. Karşımızda sözünü sakınmayan usta bir sinemacının olgunluk döneminde çektiği görkemli bir eser var.\n",
            "Boğucu Kalabalık\n",
            "Filmin hemen başında kalabalık sahneler, ustalıkla kurulmuş gergin sekanslar, çarpıcı sosyal tespitler içeren diyaloglar birbirini izliyor. Roustayi, ana karakterler hakkındaki kilit bilgileri daha öykünün çıkış noktası netleşmeden, karakterler arasındaki bağlar bile anlaşılmadan, sadece mizansen aracılığıyla izleyiciye aktarmayı başarıyor. Kalabalık bir ailenin, bir yıl önce ölmüş aile reisinin yerine kimin geçeceği açıklansın diye bir araya geldiği törende tanışıyoruz seksen yaşındaki İsmail ile. İsmail’in kambur, iki büklüm duruşu, törendeki onca insan arasında âdeta kaybolması; aslında ailenin en büyüğü olan bu adamın pek saygı görmediğini, reislik unvanı için birbiriyle yarışan aile üyeleri arasında ciddiye alınmadığını, bu duruma sesini çıkarmamasına rağmen içerlediğini hemen sezdiriyor izleyiciye. Roustayi hepsi siyahlar giyinmiş onlarca adamla dolu gösterişli salonlarda vuku bulan bu töreni sakin ve mesafeli bir üslupla, ama durumun boğuculuğunu da izleyiciye hissettirerek betimliyor. Bu bölüm, kalabalık bir erkek grubunun bir araya geldiği başka bir boğucu sekansla paralel olarak sunuluyor; ikinci ana karakter Alireza ile alelacele kapatılan ve aylardır maaş alamayan işçilerin eylem yaptığı bir fabrikada tanışıyoruz. Roustayi, polisin şiddetli müdahalesi ile çığrından çıkan protestoları çok daha dinamik bir sinema dili ile perdeye taşıyor. Tören sahnesinin boğuculuğu her şeyin fazlasıyla muntazam olmasından gelirken fabrikadaki sekansın boğuculuğu, bu diken üstü durumun kontrol edilemez oluşundan kaynaklanıyor. Alireza hakkında edindiğimiz ilk fikir ise onun işçilerin mücadelesine katılmaktansa kendini bir otobüse atıp kaçmayı yeğlemesi sebebiyle, yani bir bakıma ‘korkaklığı’ vesilesiyle oluşuyor. Ardından üçüncü ana karakter Leyla ile tedavi için geldiği bir masaj salonunda tanışıyoruz. Erkeklerin aksine Leyla yalnız, izole olmuş durumda. Diğer sahnelerde sürekli hareket eden kamera Leyla’yı âdeta küçük bir mekâna hapsediyor. Dar masaj masası, Leyla’nın hareket özgürlüğünü kısıtlayan bir detay olarak sunuluyor; karakter hakkındaki ilk izlenimimiz acı, ağrı ve sıkışmışlık gibi kavramlar üzerinden kuruluyor. \n",
            "\n",
            "Daha sonra bu karakterlerin aynı aileye mensup oldukları anlaşılıyor. İsmail’in kırklı yaşlara gelmelerine rağmen sağlam bir meslek edinememiş, özel hayatlarında sorunlar yaşayan dört oğlu (Alireza, Parviz, Ferhat ve Manouchehr) ve maaşıyla aileyi geçindirmeye çalışan bir kızı (Leyla) var. Film boyunca tüm bu karakterlerin yolsuzluklarla, çelişkili bir ahlak anlayışıyla, ekonomik zorluklarla, din ya da gelenek adı altında dayatılan kısıtlamalarla şekillendirilmiş toplum yaşamında var olma mücadelesini izliyoruz. Alireza’nın üç kuruş işsizlik yardımından faydalanabilmek için absürt kurallara uyması gerekiyor, batan fabrikanın sahiplerinden çalıştığı onca ayın maaşını alabilmesi ise imkânsız. Manouchehr aslında var olmayan arabaların ‘ön ödeme’ yapan müşterilere ‘satıldığı’ bir dolandırıcılık işine bulaşmış durumda, üstelik bunu bir meslek olarak görüyor ve göstermeye çalışıyor. Leyla ve Parviz, Tahran’ın merkezindeki popüler bir alışveriş merkezinde çalışıyorlar; Parviz bekçilik yaptığı tuvalette insanlardan para tırtıklamaya uğraşırken Leyla’nın yegâne umudu alışveriş merkezinde tuvaletlerin yerine yapılacak yeni dükkânlardan birini satın alıp nihayet sefaletten kurtulmak. İsmail’in ise ölen kuzeninin ardından ailenin başına geçip yıllarca kendisini hor görmüş akrabalarına elini öptürmekten başka bir amacı yok, bu sözde saygının bedeli ne olursa olsun. \n",
            "Toplumsal Panorama\n",
            "Roustayi tüm bu öykücükler arasında mekik dokurken üç önemli noktaya vurgu yapıyor: Birincisi, her şeyin finansal bir alışverişe indirgendiği, çıkar ilişkilerinin ve yolsuzluğun her şeyin önüne geçtiği, herkesin geçim derdiyle en yakınlarını bile unuttuğu bir toplum panoraması. Herhangi bir aile bireyine ne olduğundan ziyade, bu geniş karakter galerisinin güncel İran toplumu hakkında ne söylediğine bakmak gerekiyor. Gösterişli statü sembollerinin yoksulluğu görünmez kıldığı, sürekli erdemli olmaktan bahseden insanların para pul uğruna birbirini dolandırdığı, yoksulluğun içinden çıkılamaz bir sarmala dönüştüğü bir dünya kuruyor Roustayi. Politikacıların tek bir tweet ile ekonomiyi altüst ettiği, döviz kurlarının ve altın fiyatlarının bir anda uçup gittiği sahneler filmin öyküsünde önemli yer tutuyor. Fabrika işçilerinin maruz kaldığı haksızlıklara, bir gecede ortadan kaybolan iş ortaklarına, sahte belgelerle ilerleyen bürokratik süreçlere dair bütün sahneler bu açıdan dikkate değer. Roustayi sadece öyküdeki gelişmelerle değil, filmin görsel dokusuyla ve mekân tercihleriyle de bu temanın altını çiziyor. Leyla’nın Kardeşleri boyunca aşırı kalabalık hastane koridorlarında, kaotik devlet dairelerinde, işlerin düzgün işlemediği kamu kurumlarında geçen pek çok sahne var.\n",
            "İkincisi, makro düzeyde yaşanan tüm bu olumsuzlukların gündelik yaşama ve insan ilişkilerine etkisi. Roustayi söz ettiğim toplumsal eleştiriyi mesaj kaygısıyla ya da didaktik biçimde yapmıyor. Bunun yerine çok boyutlu karakterler yaratıyor ve insancıl bir üslup benimsiyor. Örneğin İsmail’in statü sahibi olup hürmet görmek için parasını çarçur etmesi ve çocuklarını zor durumda bırakması çok bencilce, ama yine de bu yaşlı adamın kırılganlığında ve çocuklarının her şeye rağmen ona büyük sevgi beslemesinde dokunaklı bir yön de var. Alireza, emeğinin karşılığını alamayan, kardeşlerinin yasadışı işlerine bulaşmak istemeyen bir adam. Belki de ailenin gerçekten dürüst ve iyi niyetli olan tek üyesi. Ama onun da işçi arkadaşlarını yalnız bırakışında, sorumluluk almaktan ya da tepki göstermekten kaçışında sorunlu bir yön var kuşkusuz. İlk bakışta ailesi için kendini feda eden, ailesini düzlüğe çıkarmaya çabalayan bir kadın olarak gördüğümüz Leyla bile film ilerledikçe daha karmaşık bir karakter hâline geliyor. Leyla’nın kardeşlerini manipüle ettiğini, aklına koyduğu sonuca ulaşmak için çevresindekilere zarar verdiğini düşünmek olası. Kısacası Leyla’nın Kardeşleri’nde kimse tamamen haklı ya da haksız, iyi ya da kötü değil. İçinde bulundukları sağlıksız sistem sıradan insanları ‘yanlış’ şeyler yapmaya zorluyor ve yolsuzluğu, haksızlığı normalleştiriyor ne yazık ki. Karakterleri insancıl bir bakış açısıyla görmemiz ve farklı yönlerden anlamamız için özellikle Alireza ve Leyla arasındaki sohbetlerin de önemi büyük. Filmin en güzel sahnelerinden bazılarında iki kardeş hayattaki güzel şeylerden bile çekinir hâle gelmekten, sürekli bir gerginlik ve huzursuzluk duygusuyla yaşamaktan, insanın büyüdükçe ya da yaşlandıkça hayatta istediği şeylerden vazgeçmesinden söz ediyorlar. \n",
            "\n",
            "Üçüncüsü ise bütün bu tespitlerin genç bir kadının perspektifinden, cinsiyet ve kuşak çatışması gibi kavramların süzgecinden geçirilerek sunulması. Filmin isminin ‘Leyla ve Kardeşleri’ ya da sadece ‘Kardeşler’ değil de Leyla’nın Kardeşleri olması, yani erkek kardeşlerini Leyla’nın kendisinden daha ön plana çıkarması oldukça manidar. Film boyunca Leyla kadın olmanın getirdiği sayısız zorlukla boğuşuyor çünkü. Kardeşler bir iş kurma umuduyla Manouchehr’in ortağı ile görüşmeye giderken Leyla’ya bu ‘erkek işine’ karışmayıp evde oturması söyleniyor örneğin, üstelik ailenin düzgün bir maaş alan tek üyesi olarak herkesin geçimini Leyla’nın sağlamasına rağmen. Leyla’dan kardeşlerinin ve babasının bütün yanlış kararlarına göz yumması, sesini çıkarmaması bekleniyor. Öykünün büyük kırılma noktalarını oluşturan seremonilerde (açılıştaki tören ya da İsmail’in reislik unvanını resmen almak umuduyla katıldığı gösterişli düğün gibi) kadınlar uzak bir köşeye gönderiliyor ve bütün olaylar yalnızca erkekler arasında vuku buluyor. Filmin sonlarına doğru ise Leyla’nın bu sessizliğe bir nebze başkaldırdığını, annesi ve babasıyla yüzleşme cesaretini kendinde bulduğunu görüyoruz.\n",
            "Melodram Etkisi\n",
            "Toplumsal sorunlara değinen bu tarz karakter odaklı dramaların genellikle gerçekçi olması, izleyiciye tanıdık gelecek bir öyküyü doğal bir üslupla anlatması beklenir. Aile ünitesi (ya da ev) bir mikrokozmos olarak kullanılır ve ailenin kısa süre içinde çeşitli krizlerle mücadele etmesi, sosyopolitik konuların ele alınmasına zemin hazırlar. Bu açıdan yakın dönem Türkiye sinemasından Çatlak (2020) veya İki Şafak Arasında (2021) gibi örneklerin adını anmak mümkün. Leyla’nın Kardeşleri de kimi bölümlerinde gündelik hayatı olduğu gibi perdeye taşıyormuş izlenimi uyandırıyor. Ama iyi yazılmış diyaloglar ve oyuncuların birinci sınıf performansları sayesinde kurulan bu gerçeklik hissinin ötesinde, Roustayi’nin esas meziyeti, gerektiği zaman tür kalıplarına ve giderek teatral hâle gelen bir sinema diline başvurmaktan çekinmemesi. Leyla’nın Kardeşleri güncel İran toplumunun sorunlarına dair bir inceleme olduğu kadar, epik bir melodram ve sürükleyici bir suç filmi de aynı zamanda. Türkiye sinemasından bir referans noktası bulmak gerekirse Nuri Bilge Ceylan’ın son dönem filmlerini (özellikle de Bir Zamanlar Anadolu’da [2011] filmini) anmak daha isabetli olur. Ama Roustayi’nin daha bariz referansları da var. Filmin ismi Luchino Visconti’nin ünlü klasiği Rocco ve Kardeşleri’ne (Rocco e i Suoi Fratelli, 1960) atıfta bulunuyor mesela, zaten şaşaalı düğün sekansı ve düğün sırasında yaşanan hesaplaşmalar da Visconti filmlerini akla getiriyor, âdeta görkemli bir operayı çağrıştırıyor. Hatta Leyla’nın tam da Rocco gibi dört kardeşinin olması rastlantı değil. Bu melodramatik yaklaşıma uygun şekilde, film ilerledikçe doğal diyalogların yerini uzun tiratlar alıyor, birbirlerine karşı dürüst olmayan karakterlerin yalanları, sırları trajik yüzleşme sahnelerinde açığa çıkıyor. \n",
            "\n",
            "Maalesef Leyla’nın Kardeşleri İranlı otoriteler tarafından filmin Cannes’da hükümet onayı olmadan yarışması gerekçe gösterilerek ülkesinde yasaklandı. Tabii bunun yalnızca bürokratik bir bahaneden ibaret olduğu, filmin aslında İran’daki politik yozlaşmayı ve ekonomik çöküşü gözler önüne serdiği için yasaklandığı aşikâr. Fakat Roustayi’nin cesur ve ustalıklı filmi tam da bu sebeple mutlaka izlenmeyi hak ediyor. Süresi 160 dakikayı aşan, sözel yoğunluğu ve tematik derinliğiyle izleyiciden emek talep eden, hatta kimi bölümlerinde izleyiciyi yorabilecek bir film Leyla’nın Kardeşleri. Ama bu kapsamlı ve düşündürücü epik, seyircinin çabasını hem etkileyici bir aile hikâyesi anlatarak hem de İran’daki toplumsal çürüyüşü korkusuzca perdeye taşıyarak ödüllendiriyor.\n",
            "\n",
            "Leyla’nın Kardeşleri, 25 Mart’tan itibaren MUBI Türkiye’de izlenebiliyor.\n"
          ]
        }
      ]
    },
    {
      "cell_type": "code",
      "source": [
        "from google.colab import drive\n",
        "drive.mount('/content/drive')"
      ],
      "metadata": {
        "colab": {
          "base_uri": "https://localhost:8080/"
        },
        "id": "uS-W94_8S-07",
        "outputId": "7452ce6b-cb4a-409d-feda-5eff8d97878e"
      },
      "execution_count": null,
      "outputs": [
        {
          "output_type": "stream",
          "name": "stdout",
          "text": [
            "Mounted at /content/drive\n"
          ]
        }
      ]
    },
    {
      "cell_type": "code",
      "source": [],
      "metadata": {
        "id": "C_UfykGgTL5h"
      },
      "execution_count": null,
      "outputs": []
    }
  ]
}