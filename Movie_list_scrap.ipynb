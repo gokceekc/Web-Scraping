{
  "nbformat": 4,
  "nbformat_minor": 0,
  "metadata": {
    "colab": {
      "provenance": []
    },
    "kernelspec": {
      "name": "python3",
      "display_name": "Python 3"
    },
    "language_info": {
      "name": "python"
    }
  },
  "cells": [
    {
      "cell_type": "code",
      "execution_count": null,
      "metadata": {
        "id": "kLKVadTjdeta",
        "outputId": "504cf161-c13b-4e02-a471-47fbc73c63a6",
        "colab": {
          "base_uri": "https://localhost:8080/"
        }
      },
      "outputs": [
        {
          "output_type": "stream",
          "name": "stdout",
          "text": [
            "The Party                                          https://mubi.com/films/the-party-2017\n",
            "Locke                                              https://mubi.com/films/locke\n",
            "The Faculties                                      https://mubi.com/films/the-faculties\n",
            "A Night at the Opera                               https://mubi.com/films/a-night-at-the-opera-2020\n",
            "Boom for Real: The Late Teenage Years of Jean-Michel Basquiat https://mubi.com/films/boom-for-real-the-late-teenage-years-of-jean-michel-basquiat\n",
            "Project Space 13                                   https://mubi.com/films/project-space-13\n",
            "Air Conditioner                                    https://mubi.com/films/air-conditioner\n",
            "A Royal Affair                                     https://mubi.com/films/a-royal-affair\n",
            "All Hands on Deck                                  https://mubi.com/films/all-hands-on-deck-2020\n",
            "Princess Cyd                                       https://mubi.com/films/princess-cyd\n",
            "The Fencer                                         https://mubi.com/films/the-fencer\n",
            "Tanna                                              https://mubi.com/films/tanna\n",
            "Inside Job                                         https://mubi.com/films/inside-job\n",
            "Celeste and Jesse Forever                          https://mubi.com/films/celeste-and-jesse-forever\n",
            "Under the Silver Lake                              https://mubi.com/films/under-the-silver-lake\n",
            "Ramen Shop                                         https://mubi.com/films/ramen-shop\n",
            "The Rider                                          https://mubi.com/films/the-rider\n",
            "The Wind that Shakes the Barley                    https://mubi.com/films/the-wind-that-shakes-the-barley\n",
            "Slack Bay                                          https://mubi.com/films/slack-bay\n",
            "Support the Girls                                  https://mubi.com/films/support-the-girls\n",
            "The Hills Have Eyes                                https://mubi.com/films/the-hills-have-eyes\n",
            "The Secret in Their Eyes                           https://mubi.com/films/the-secret-in-their-eyes\n",
            "Frances Ha                                         https://mubi.com/films/frances-ha\n",
            "Into the Wild                                      https://mubi.com/films/into-the-wild\n"
          ]
        }
      ],
      "source": [
        "import json\n",
        "import requests\n",
        "\n",
        "\n",
        "url = \"https://mubi.com/users/9167878/watchlist\"\n",
        "api_url = (\n",
        "    \"https://mubi.com/services/api/wishes?user_id={user_id}&page=1&per_page=24\"\n",
        ")\n",
        "user_id = url.split(\"/\")[-2]\n",
        "\n",
        "data = requests.get(api_url.format(user_id=user_id)).json()\n",
        "\n",
        "# uncomment this to print all data\n",
        "# print(json.dumps(data, indent=4))\n",
        "\n",
        "for d in data:\n",
        "    print(\"{:<50} {}\".format(d[\"film\"][\"title\"], d[\"film\"][\"canonical_url\"]))"
      ]
    }
  ]
}